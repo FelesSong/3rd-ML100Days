{
 "cells": [
  {
   "cell_type": "markdown",
   "metadata": {},
   "source": [
    "# [作業目標]\n",
    "- 利用範例的創建方式, 創建一組資料, 並練習如何取出最大值"
   ]
  },
  {
   "cell_type": "markdown",
   "metadata": {},
   "source": [
    "# [作業重點]\n",
    "- 練習創立 DataFrame (In[2])\n",
    "- 如何取出口數最多的國家 (In[3], Out[3])"
   ]
  },
  {
   "cell_type": "markdown",
   "metadata": {},
   "source": [
    "## 練習時間\n",
    "在小量的資料上，我們用眼睛就可以看得出來程式碼是否有跑出我們理想中的結果\n",
    "\n",
    "請嘗試想像一個你需要的資料結構 (裡面的值可以是隨機的)，然後用上述的方法把它變成 pandas DataFrame\n",
    "\n",
    "#### Ex: 想像一個 dataframe 有兩個欄位，一個是國家，一個是人口，求人口數最多的國家\n",
    "\n",
    "### Hints: [隨機產生數值](https://blog.csdn.net/christianashannon/article/details/78867204)"
   ]
  },
  {
   "cell_type": "code",
   "execution_count": 1,
   "metadata": {},
   "outputs": [],
   "source": [
    "import pandas as pd\n",
    "import numpy as np"
   ]
  },
  {
   "cell_type": "code",
   "execution_count": 2,
   "metadata": {},
   "outputs": [
    {
     "name": "stdout",
     "output_type": "stream",
     "text": [
      "方法一(data)\n",
      "              國家         人口\n",
      "0         Taiwan   23000000\n",
      "1  United States  327200000\n",
      "2       Thailand   69040000\n",
      "方法二(data2)\n",
      "              國家         人口\n",
      "0         Taiwan  469828249\n",
      "1  United States  254688909\n",
      "2       Thailand  356642028\n"
     ]
    }
   ],
   "source": [
    "print('方法一(data)')\n",
    "data = {'國家': ['Taiwan', 'United States', 'Thailand'],\n",
    "        '人口': [23000000, 327200000, 69040000]}\n",
    "data = pd.DataFrame(data)\n",
    "print(data)\n",
    "\n",
    "print('方法二(data2)')\n",
    "country = ['Taiwan', 'United States', 'Thailand']\n",
    "population = np.random.randint(20000000, 500000000, 3)\n",
    "\n",
    "\n",
    "list_labels = ['國家','人口']\n",
    "list_cols = [country, population]\n",
    "\n",
    "zipped = list(zip(list_labels, list_cols))\n",
    "data2 = pd.DataFrame(dict(zipped))\n",
    "print(data2)"
   ]
  },
  {
   "cell_type": "code",
   "execution_count": 3,
   "metadata": {},
   "outputs": [
    {
     "name": "stdout",
     "output_type": "stream",
     "text": [
      "data 中人口最多的國家: United States\n",
      "data2中人口最多的國家: Taiwan\n"
     ]
    }
   ],
   "source": [
    "print('data 中人口最多的國家: %s' % data.loc[data['人口'].idxmax(), '國家'])\n",
    "print('data2中人口最多的國家: %s' %data2.loc[data2['人口'].idxmax(), '國家'])"
   ]
  },
  {
   "cell_type": "code",
   "execution_count": null,
   "metadata": {},
   "outputs": [],
   "source": []
  }
 ],
 "metadata": {
  "kernelspec": {
   "display_name": "Python 3",
   "language": "python",
   "name": "python3"
  },
  "language_info": {
   "codemirror_mode": {
    "name": "ipython",
    "version": 3
   },
   "file_extension": ".py",
   "mimetype": "text/x-python",
   "name": "python",
   "nbconvert_exporter": "python",
   "pygments_lexer": "ipython3",
   "version": "3.7.3"
  }
 },
 "nbformat": 4,
 "nbformat_minor": 2
}
